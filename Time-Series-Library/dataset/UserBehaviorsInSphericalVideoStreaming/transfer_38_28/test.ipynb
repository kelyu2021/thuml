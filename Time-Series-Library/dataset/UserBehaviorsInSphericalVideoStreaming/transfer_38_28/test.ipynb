{
 "cells": [
  {
   "cell_type": "code",
   "execution_count": null,
   "metadata": {},
   "outputs": [],
   "source": [
    "for i in range(3):\n",
    "    arr_{i} = "
   ]
  },
  {
   "cell_type": "code",
   "execution_count": 89,
   "metadata": {},
   "outputs": [
    {
     "name": "stdout",
     "output_type": "stream",
     "text": [
      "[[[ 1  2  3]\n",
      "  [ 4  5  6]]\n",
      "\n",
      " [[ 7  8  9]\n",
      "  [10 11 12]]\n",
      "\n",
      " [[13 14 15]\n",
      "  [16 17 18]]]\n"
     ]
    }
   ],
   "source": [
    "\n",
    "\n",
    "# 定义多个二维数组\n",
    "array1 = np.array([[1, 2, 3], [4, 5, 6]])\n",
    "array2 = np.array([[7, 8, 9], [10, 11, 12]])\n",
    "array3 = np.array([[13, 14, 15], [16, 17, 18]])\n",
    "\n",
    "# 使用 numpy.stack() 函数将多个二维数组拼接成一个三维数组\n",
    "three_dimensional_array = np.stack((array1, array2, array3))\n",
    "\n",
    "# 打印三维数组\n",
    "print(three_dimensional_array)\n"
   ]
  },
  {
   "cell_type": "code",
   "execution_count": 88,
   "metadata": {},
   "outputs": [
    {
     "ename": "ValueError",
     "evalue": "all the input array dimensions for the concatenation axis must match exactly, but along dimension 1, the array at index 0 has size 2 and the array at index 1 has size 1",
     "output_type": "error",
     "traceback": [
      "\u001b[0;31m---------------------------------------------------------------------------\u001b[0m",
      "\u001b[0;31mValueError\u001b[0m                                Traceback (most recent call last)",
      "Cell \u001b[0;32mIn[88], line 11\u001b[0m\n\u001b[1;32m      8\u001b[0m vector2 \u001b[38;5;241m=\u001b[39m np\u001b[38;5;241m.\u001b[39marray([\u001b[38;5;241m4\u001b[39m, \u001b[38;5;241m5\u001b[39m, \u001b[38;5;241m6\u001b[39m])\n\u001b[1;32m     10\u001b[0m \u001b[38;5;66;03m# 将向量添加到三维数组的第一维\u001b[39;00m\n\u001b[0;32m---> 11\u001b[0m three_dimensional_array \u001b[38;5;241m=\u001b[39m \u001b[43mnp\u001b[49m\u001b[38;5;241;43m.\u001b[39;49m\u001b[43mappend\u001b[49m\u001b[43m(\u001b[49m\u001b[43mthree_dimensional_array\u001b[49m\u001b[43m,\u001b[49m\u001b[43m \u001b[49m\u001b[43m[\u001b[49m\u001b[43mvector1\u001b[49m\u001b[43m[\u001b[49m\u001b[43mnp\u001b[49m\u001b[38;5;241;43m.\u001b[39;49m\u001b[43mnewaxis\u001b[49m\u001b[43m,\u001b[49m\u001b[43m:\u001b[49m\u001b[43m]\u001b[49m\u001b[43m]\u001b[49m\u001b[43m,\u001b[49m\u001b[43m \u001b[49m\u001b[43maxis\u001b[49m\u001b[38;5;241;43m=\u001b[39;49m\u001b[38;5;241;43m0\u001b[39;49m\u001b[43m)\u001b[49m\n\u001b[1;32m     12\u001b[0m three_dimensional_array \u001b[38;5;241m=\u001b[39m np\u001b[38;5;241m.\u001b[39mappend(three_dimensional_array, [vector2[np\u001b[38;5;241m.\u001b[39mnewaxis,:]], axis\u001b[38;5;241m=\u001b[39m\u001b[38;5;241m0\u001b[39m)\n\u001b[1;32m     14\u001b[0m \u001b[38;5;66;03m# 打印三维数组\u001b[39;00m\n",
      "File \u001b[0;32m<__array_function__ internals>:180\u001b[0m, in \u001b[0;36mappend\u001b[0;34m(*args, **kwargs)\u001b[0m\n",
      "File \u001b[0;32m/Library/Frameworks/Python.framework/Versions/3.8/lib/python3.8/site-packages/numpy/lib/function_base.py:5444\u001b[0m, in \u001b[0;36mappend\u001b[0;34m(arr, values, axis)\u001b[0m\n\u001b[1;32m   5442\u001b[0m     values \u001b[38;5;241m=\u001b[39m ravel(values)\n\u001b[1;32m   5443\u001b[0m     axis \u001b[38;5;241m=\u001b[39m arr\u001b[38;5;241m.\u001b[39mndim\u001b[38;5;241m-\u001b[39m\u001b[38;5;241m1\u001b[39m\n\u001b[0;32m-> 5444\u001b[0m \u001b[38;5;28;01mreturn\u001b[39;00m \u001b[43mconcatenate\u001b[49m\u001b[43m(\u001b[49m\u001b[43m(\u001b[49m\u001b[43marr\u001b[49m\u001b[43m,\u001b[49m\u001b[43m \u001b[49m\u001b[43mvalues\u001b[49m\u001b[43m)\u001b[49m\u001b[43m,\u001b[49m\u001b[43m \u001b[49m\u001b[43maxis\u001b[49m\u001b[38;5;241;43m=\u001b[39;49m\u001b[43maxis\u001b[49m\u001b[43m)\u001b[49m\n",
      "File \u001b[0;32m<__array_function__ internals>:180\u001b[0m, in \u001b[0;36mconcatenate\u001b[0;34m(*args, **kwargs)\u001b[0m\n",
      "\u001b[0;31mValueError\u001b[0m: all the input array dimensions for the concatenation axis must match exactly, but along dimension 1, the array at index 0 has size 2 and the array at index 1 has size 1"
     ]
    }
   ],
   "source": [
    "import numpy as np\n",
    "\n",
    "# 定义一个空的三维数组\n",
    "three_dimensional_array = np.empty((0, 0, 3), dtype=int)\n",
    "\n",
    "# 定义要添加的向量\n",
    "vector1 = np.array([1, 2, 3])\n",
    "vector2 = np.array([4, 5, 6])\n",
    "\n",
    "# 将向量添加到三维数组的第一维\n",
    "three_dimensional_array = np.append(three_dimensional_array, [vector1[np.newaxis,:]], axis=0)\n",
    "three_dimensional_array = np.append(three_dimensional_array, [vector2[np.newaxis,:]], axis=0)\n",
    "\n",
    "# 打印三维数组\n",
    "print(three_dimensional_array)\n"
   ]
  },
  {
   "cell_type": "code",
   "execution_count": 85,
   "metadata": {},
   "outputs": [
    {
     "ename": "IndexError",
     "evalue": "index 1 is out of bounds for axis 0 with size 1",
     "output_type": "error",
     "traceback": [
      "\u001b[0;31m---------------------------------------------------------------------------\u001b[0m",
      "\u001b[0;31mIndexError\u001b[0m                                Traceback (most recent call last)",
      "Cell \u001b[0;32mIn[85], line 12\u001b[0m\n\u001b[1;32m     10\u001b[0m \u001b[38;5;66;03m# 添加另一个二维数组\u001b[39;00m\n\u001b[1;32m     11\u001b[0m two_dimensional_array2 \u001b[38;5;241m=\u001b[39m np\u001b[38;5;241m.\u001b[39marray([\u001b[38;5;241m7\u001b[39m, \u001b[38;5;241m8\u001b[39m, \u001b[38;5;241m9\u001b[39m])\n\u001b[0;32m---> 12\u001b[0m three_dimensional_array \u001b[38;5;241m=\u001b[39m np\u001b[38;5;241m.\u001b[39mappend(\u001b[43mthree_dimensional_array\u001b[49m\u001b[43m[\u001b[49m\u001b[38;5;241;43m1\u001b[39;49m\u001b[43m]\u001b[49m, [two_dimensional_array2], axis\u001b[38;5;241m=\u001b[39m\u001b[38;5;241m1\u001b[39m)\n\u001b[1;32m     14\u001b[0m \u001b[38;5;66;03m# 打印三维数组\u001b[39;00m\n\u001b[1;32m     15\u001b[0m \u001b[38;5;28mprint\u001b[39m(three_dimensional_array\u001b[38;5;241m.\u001b[39mshape)\n",
      "\u001b[0;31mIndexError\u001b[0m: index 1 is out of bounds for axis 0 with size 1"
     ]
    }
   ],
   "source": [
    "import numpy as np\n",
    "\n",
    "# 定义一个空的三维数组\n",
    "three_dimensional_array = np.empty((9, 1, 3), dtype=int)\n",
    "\n",
    "# 添加一个二维数组\n",
    "two_dimensional_array1 = np.array([1, 2, 3])\n",
    "three_dimensional_array = np.append(three_dimensional_array[0], [two_dimensional_array1], axis=1)\n",
    "\n",
    "# 添加另一个二维数组\n",
    "two_dimensional_array2 = np.array([7, 8, 9])\n",
    "three_dimensional_array = np.append(three_dimensional_array[1], [two_dimensional_array2], axis=1)\n",
    "\n",
    "# 打印三维数组\n",
    "print(three_dimensional_array.shape)\n",
    "\n",
    "print(three_dimensional_array)"
   ]
  },
  {
   "cell_type": "code",
   "execution_count": 73,
   "metadata": {},
   "outputs": [
    {
     "name": "stdout",
     "output_type": "stream",
     "text": [
      "0\n",
      "1\n",
      "2\n",
      "3\n",
      "4\n",
      "5\n",
      "6\n",
      "7\n",
      "8\n"
     ]
    }
   ],
   "source": [
    "import numpy as np\n",
    "\n",
    "data = [[] for _ in range(9)]\n",
    "\n",
    "for i in range(9):\n",
    "    print(i)"
   ]
  },
  {
   "cell_type": "code",
   "execution_count": 68,
   "metadata": {},
   "outputs": [
    {
     "name": "stdout",
     "output_type": "stream",
     "text": [
      "[[array([-0.015  ,  0.94871, -0.06443, -0.30929, -0.16   ,  1.11557,\n",
      "       -0.25971]), array([-0.015  ,  0.94871, -0.06443, -0.30929, -0.16   ,  1.11557,\n",
      "       -0.25971]), array([-0.015  ,  0.94871, -0.06443, -0.30929, -0.16   ,  1.11557,\n",
      "       -0.25971])], [], [], [], [], [], [], [], []]\n"
     ]
    }
   ],
   "source": [
    "import numpy as np\n",
    "\n",
    "data = [[] for _ in range(9)]\n",
    "arr1 = np.array([-0.015,    0.94871, -0.06443, -0.30929, -0.16,     1.11557, -0.25971])\n",
    "data[0].append(arr1)\n",
    "data[0].append(arr1)\n",
    "data[0].append(arr1)\n",
    "\n",
    "print(data[0])"
   ]
  },
  {
   "cell_type": "code",
   "execution_count": 72,
   "metadata": {},
   "outputs": [
    {
     "data": {
      "text/plain": [
       "[array([-0.015  ,  0.94871, -0.06443, -0.30929, -0.16   ,  1.11557,\n",
       "        -0.25971]),\n",
       " array([-0.015  ,  0.94871, -0.06443, -0.30929, -0.16   ,  1.11557,\n",
       "        -0.25971])]"
      ]
     },
     "execution_count": 72,
     "metadata": {},
     "output_type": "execute_result"
    }
   ],
   "source": [
    "data[0][1:3]"
   ]
  },
  {
   "cell_type": "code",
   "execution_count": 62,
   "metadata": {},
   "outputs": [
    {
     "name": "stdout",
     "output_type": "stream",
     "text": [
      "[array([[0],\n",
      "       [4],\n",
      "       [8]]), array([[1],\n",
      "       [5],\n",
      "       [9]]), array([[ 2],\n",
      "       [ 6],\n",
      "       [10]]), array([[ 3],\n",
      "       [ 7],\n",
      "       [11]])]\n"
     ]
    }
   ],
   "source": [
    "import numpy as np\n",
    "\n",
    "arr = np.arange(12).reshape((3, 4))\n",
    "\n",
    "print(np.hsplit(arr, 4))"
   ]
  },
  {
   "cell_type": "code",
   "execution_count": 59,
   "metadata": {},
   "outputs": [
    {
     "name": "stdout",
     "output_type": "stream",
     "text": [
      "[[ 0  1  2  3]\n",
      " [ 4  5  6  7]\n",
      " [ 8  9 10 11]]\n",
      "[array([[0, 1, 2, 3]]), array([[4, 5, 6, 7]]), array([[ 8,  9, 10, 11]])]\n",
      "[[0 1 2 3]] [[4 5 6 7]] [[ 8  9 10 11]]\n"
     ]
    },
    {
     "ename": "ValueError",
     "evalue": "array split does not result in an equal division",
     "output_type": "error",
     "traceback": [
      "\u001b[0;31m---------------------------------------------------------------------------\u001b[0m",
      "\u001b[0;31mValueError\u001b[0m                                Traceback (most recent call last)",
      "Cell \u001b[0;32mIn[59], line 11\u001b[0m\n\u001b[1;32m      8\u001b[0m a, b, c \u001b[38;5;241m=\u001b[39m np\u001b[38;5;241m.\u001b[39msplit(arr, \u001b[38;5;241m3\u001b[39m, axis\u001b[38;5;241m=\u001b[39m\u001b[38;5;241m0\u001b[39m)\n\u001b[1;32m      9\u001b[0m \u001b[38;5;28mprint\u001b[39m(a, b, c)\n\u001b[0;32m---> 11\u001b[0m \u001b[38;5;28mprint\u001b[39m(\u001b[43mnp\u001b[49m\u001b[38;5;241;43m.\u001b[39;49m\u001b[43msplit\u001b[49m\u001b[43m(\u001b[49m\u001b[43marr\u001b[49m\u001b[43m,\u001b[49m\u001b[43m \u001b[49m\u001b[38;5;241;43m3\u001b[39;49m\u001b[43m,\u001b[49m\u001b[43m \u001b[49m\u001b[43maxis\u001b[49m\u001b[38;5;241;43m=\u001b[39;49m\u001b[38;5;241;43m1\u001b[39;49m\u001b[43m)\u001b[49m)\n\u001b[1;32m     12\u001b[0m d, e, f \u001b[38;5;241m=\u001b[39m np\u001b[38;5;241m.\u001b[39msplit(arr, \u001b[38;5;241m3\u001b[39m, axis\u001b[38;5;241m=\u001b[39m\u001b[38;5;241m1\u001b[39m)\n\u001b[1;32m     13\u001b[0m \u001b[38;5;28mprint\u001b[39m(d, e, f)\n",
      "File \u001b[0;32m<__array_function__ internals>:180\u001b[0m, in \u001b[0;36msplit\u001b[0;34m(*args, **kwargs)\u001b[0m\n",
      "File \u001b[0;32m/Library/Frameworks/Python.framework/Versions/3.8/lib/python3.8/site-packages/numpy/lib/shape_base.py:872\u001b[0m, in \u001b[0;36msplit\u001b[0;34m(ary, indices_or_sections, axis)\u001b[0m\n\u001b[1;32m    870\u001b[0m     N \u001b[38;5;241m=\u001b[39m ary\u001b[38;5;241m.\u001b[39mshape[axis]\n\u001b[1;32m    871\u001b[0m     \u001b[38;5;28;01mif\u001b[39;00m N \u001b[38;5;241m%\u001b[39m sections:\n\u001b[0;32m--> 872\u001b[0m         \u001b[38;5;28;01mraise\u001b[39;00m \u001b[38;5;167;01mValueError\u001b[39;00m(\n\u001b[1;32m    873\u001b[0m             \u001b[38;5;124m'\u001b[39m\u001b[38;5;124marray split does not result in an equal division\u001b[39m\u001b[38;5;124m'\u001b[39m) \u001b[38;5;28;01mfrom\u001b[39;00m \u001b[38;5;28;01mNone\u001b[39;00m\n\u001b[1;32m    874\u001b[0m \u001b[38;5;28;01mreturn\u001b[39;00m array_split(ary, indices_or_sections, axis)\n",
      "\u001b[0;31mValueError\u001b[0m: array split does not result in an equal division"
     ]
    }
   ],
   "source": [
    "import numpy as np\n",
    "\n",
    "arr = np.arange(12).reshape((3, 4))\n",
    "\n",
    "print(arr)\n",
    "\n",
    "print(np.split(arr, 3, axis=0))\n",
    "a, b, c = np.split(arr, 3, axis=0)\n",
    "print(a, b, c)\n",
    "\n",
    "print(np.split(arr, 3, axis=1))\n",
    "d, e, f = np.split(arr, 3, axis=1)\n",
    "print(d, e, f)"
   ]
  },
  {
   "cell_type": "code",
   "execution_count": 54,
   "metadata": {},
   "outputs": [
    {
     "name": "stdout",
     "output_type": "stream",
     "text": [
      "[1 1 1]\n",
      "<class 'numpy.ndarray'>\n"
     ]
    },
    {
     "data": {
      "text/plain": [
       "array([1, 1, 1])"
      ]
     },
     "execution_count": 54,
     "metadata": {},
     "output_type": "execute_result"
    }
   ],
   "source": [
    "\n",
    "arr1 = np.array([1, 1, 1])\n",
    "\n",
    "print(arr1)\n",
    "print(type(arr1))\n",
    "arr1"
   ]
  },
  {
   "cell_type": "code",
   "execution_count": 50,
   "metadata": {},
   "outputs": [
    {
     "name": "stdout",
     "output_type": "stream",
     "text": [
      "[[ 1  2  3  4]\n",
      " [ 5  6  7  8]\n",
      " [ 9 10 11 12]]\n",
      "type(arr.flatten) <class 'builtin_function_or_method'>\n",
      "type(arr.flat) <class 'numpy.flatiter'>\n",
      "1\n",
      "2\n",
      "3\n",
      "4\n",
      "5\n",
      "6\n",
      "7\n",
      "8\n",
      "9\n",
      "10\n",
      "11\n",
      "12\n"
     ]
    }
   ],
   "source": [
    "import numpy as np\n",
    "arr = np.arange(1, 13).reshape((3, 4))\n",
    "print(arr)\n",
    "\n",
    "print('type(arr.flatten)', type(arr.flatten))\n",
    "print('type(arr.flat)', type(arr.flat))\n",
    "\n",
    "for i in arr.flat:\n",
    "    print(i)"
   ]
  },
  {
   "cell_type": "code",
   "execution_count": 39,
   "metadata": {},
   "outputs": [
    {
     "ename": "AxisError",
     "evalue": "axis 1 is out of bounds for array of dimension 1",
     "output_type": "error",
     "traceback": [
      "\u001b[0;31m---------------------------------------------------------------------------\u001b[0m",
      "\u001b[0;31mAxisError\u001b[0m                                 Traceback (most recent call last)",
      "Cell \u001b[0;32mIn[39], line 9\u001b[0m\n\u001b[1;32m      7\u001b[0m two_dimensional_array1 \u001b[38;5;241m=\u001b[39m np\u001b[38;5;241m.\u001b[39marray([\u001b[38;5;241m1\u001b[39m, \u001b[38;5;241m2\u001b[39m, \u001b[38;5;241m3\u001b[39m])\n\u001b[1;32m      8\u001b[0m three_dimensional_array \u001b[38;5;241m=\u001b[39m np\u001b[38;5;241m.\u001b[39mappend(three_dimensional_array[\u001b[38;5;241m0\u001b[39m], [two_dimensional_array1], axis\u001b[38;5;241m=\u001b[39m\u001b[38;5;241m1\u001b[39m)\n\u001b[0;32m----> 9\u001b[0m three_dimensional_array \u001b[38;5;241m=\u001b[39m \u001b[43mnp\u001b[49m\u001b[38;5;241;43m.\u001b[39;49m\u001b[43mappend\u001b[49m\u001b[43m(\u001b[49m\u001b[43mthree_dimensional_array\u001b[49m\u001b[43m[\u001b[49m\u001b[38;5;241;43m0\u001b[39;49m\u001b[43m]\u001b[49m\u001b[43m,\u001b[49m\u001b[43m \u001b[49m\u001b[43m[\u001b[49m\u001b[43mtwo_dimensional_array1\u001b[49m\u001b[43m]\u001b[49m\u001b[43m,\u001b[49m\u001b[43m \u001b[49m\u001b[43maxis\u001b[49m\u001b[38;5;241;43m=\u001b[39;49m\u001b[38;5;241;43m1\u001b[39;49m\u001b[43m)\u001b[49m\n\u001b[1;32m     10\u001b[0m three_dimensional_array \u001b[38;5;241m=\u001b[39m np\u001b[38;5;241m.\u001b[39mappend(three_dimensional_array[\u001b[38;5;241m0\u001b[39m], [two_dimensional_array1], axis\u001b[38;5;241m=\u001b[39m\u001b[38;5;241m1\u001b[39m)\n\u001b[1;32m     13\u001b[0m \u001b[38;5;66;03m# 打印三维数组\u001b[39;00m\n",
      "File \u001b[0;32m<__array_function__ internals>:180\u001b[0m, in \u001b[0;36mappend\u001b[0;34m(*args, **kwargs)\u001b[0m\n",
      "File \u001b[0;32m/Library/Frameworks/Python.framework/Versions/3.8/lib/python3.8/site-packages/numpy/lib/function_base.py:5444\u001b[0m, in \u001b[0;36mappend\u001b[0;34m(arr, values, axis)\u001b[0m\n\u001b[1;32m   5442\u001b[0m     values \u001b[38;5;241m=\u001b[39m ravel(values)\n\u001b[1;32m   5443\u001b[0m     axis \u001b[38;5;241m=\u001b[39m arr\u001b[38;5;241m.\u001b[39mndim\u001b[38;5;241m-\u001b[39m\u001b[38;5;241m1\u001b[39m\n\u001b[0;32m-> 5444\u001b[0m \u001b[38;5;28;01mreturn\u001b[39;00m \u001b[43mconcatenate\u001b[49m\u001b[43m(\u001b[49m\u001b[43m(\u001b[49m\u001b[43marr\u001b[49m\u001b[43m,\u001b[49m\u001b[43m \u001b[49m\u001b[43mvalues\u001b[49m\u001b[43m)\u001b[49m\u001b[43m,\u001b[49m\u001b[43m \u001b[49m\u001b[43maxis\u001b[49m\u001b[38;5;241;43m=\u001b[39;49m\u001b[43maxis\u001b[49m\u001b[43m)\u001b[49m\n",
      "File \u001b[0;32m<__array_function__ internals>:180\u001b[0m, in \u001b[0;36mconcatenate\u001b[0;34m(*args, **kwargs)\u001b[0m\n",
      "\u001b[0;31mAxisError\u001b[0m: axis 1 is out of bounds for array of dimension 1"
     ]
    }
   ],
   "source": [
    "import numpy as np\n",
    "\n",
    "# 定义一个空的三维数组\n",
    "three_dimensional_array = [[[]]]\n",
    "\n",
    "# 添加一个二维数组\n",
    "two_dimensional_array1 = np.array([1, 2, 3])\n",
    "three_dimensional_array = np.append(three_dimensional_array[0], [two_dimensional_array1], axis=1)\n",
    "three_dimensional_array = np.append(three_dimensional_array[0], [two_dimensional_array1], axis=1)\n",
    "three_dimensional_array = np.append(three_dimensional_array[0], [two_dimensional_array1], axis=1)\n",
    "\n",
    "\n",
    "# 打印三维数组\n",
    "print(three_dimensional_array[0])\n"
   ]
  },
  {
   "cell_type": "code",
   "execution_count": 21,
   "metadata": {},
   "outputs": [
    {
     "ename": "TypeError",
     "evalue": "array() missing required argument 'object' (pos 0)",
     "output_type": "error",
     "traceback": [
      "\u001b[0;31m---------------------------------------------------------------------------\u001b[0m",
      "\u001b[0;31mTypeError\u001b[0m                                 Traceback (most recent call last)",
      "Cell \u001b[0;32mIn[21], line 3\u001b[0m\n\u001b[1;32m      1\u001b[0m \u001b[38;5;28;01mimport\u001b[39;00m \u001b[38;5;21;01mnumpy\u001b[39;00m \u001b[38;5;28;01mas\u001b[39;00m \u001b[38;5;21;01mnp\u001b[39;00m\n\u001b[1;32m      2\u001b[0m \u001b[38;5;66;03m# 4. Stack Arrays\u001b[39;00m\n\u001b[0;32m----> 3\u001b[0m data \u001b[38;5;241m=\u001b[39m \u001b[43mnp\u001b[49m\u001b[38;5;241;43m.\u001b[39;49m\u001b[43marray\u001b[49m\u001b[43m(\u001b[49m\u001b[43m)\u001b[49m\n\u001b[1;32m      4\u001b[0m array1 \u001b[38;5;241m=\u001b[39m np\u001b[38;5;241m.\u001b[39marray([\u001b[38;5;241m1\u001b[39m, \u001b[38;5;241m2\u001b[39m])\n\u001b[1;32m      5\u001b[0m array2 \u001b[38;5;241m=\u001b[39m np\u001b[38;5;241m.\u001b[39marray([\u001b[38;5;241m5\u001b[39m, \u001b[38;5;241m6\u001b[39m])\n",
      "\u001b[0;31mTypeError\u001b[0m: array() missing required argument 'object' (pos 0)"
     ]
    }
   ],
   "source": [
    "import numpy as np\n",
    "# 4. Stack Arrays\n",
    "data = np.array()\n",
    "array1 = np.array([1, 2])\n",
    "array2 = np.array([5, 6])\n",
    "array3 = np.array([7, 8])\n",
    "data = np.vstack((data, array2))\n",
    "data = np.vstack((data, array3))\n",
    "\n",
    "print(\"Stacked Vertically:\\n\", stacked_vertically)"
   ]
  },
  {
   "cell_type": "code",
   "execution_count": 7,
   "metadata": {},
   "outputs": [
    {
     "name": "stdout",
     "output_type": "stream",
     "text": [
      "Modified Array: [10  2  3  4  5]\n",
      "Appended Array: [10  2  3  4  5  6  7]\n",
      "Inserted Array: [10  2  8  9  3  4  5  6  7]\n",
      "Stacked Vertically:\n",
      " [[1 2]\n",
      " [3 4]\n",
      " [5 6]\n",
      " [7 8]]\n",
      "Stacked Horizontally:\n",
      " [[1 2 5 6]\n",
      " [3 4 7 8]]\n"
     ]
    }
   ],
   "source": [
    "import numpy as np\n",
    "\n",
    "# Create a NumPy array\n",
    "array = np.array([1, 2, 3, 4, 5])\n",
    "\n",
    "# 1. Modify Existing Elements\n",
    "array[0] = 10\n",
    "print(\"Modified Array:\", array)\n",
    "\n",
    "# 2. Append New Elements\n",
    "array = np.append(array, [6, 7])\n",
    "print(\"Appended Array:\", array)\n",
    "\n",
    "# 3. Insert New Elements\n",
    "array = np.insert(array, 2, [8, 9])\n",
    "print(\"Inserted Array:\", array)\n",
    "\n",
    "# 4. Stack Arrays\n",
    "array1 = np.array([[1, 2], [3, 4]])\n",
    "array2 = np.array([[5, 6], [7, 8]])\n",
    "stacked_vertically = np.vstack((array1, array2))\n",
    "stacked_horizontally = np.hstack((array1, array2))\n",
    "\n",
    "print(\"Stacked Vertically:\\n\", stacked_vertically)\n",
    "print(\"Stacked Horizontally:\\n\", stacked_horizontally)\n"
   ]
  },
  {
   "cell_type": "code",
   "execution_count": 6,
   "metadata": {},
   "outputs": [
    {
     "name": "stdout",
     "output_type": "stream",
     "text": [
      "[[1 2 3]\n",
      " [4 5 6]\n",
      " [7 8 9]]\n",
      "[[1, 2, 3], [4, 5, 6], [7, 8, 9]]\n"
     ]
    }
   ],
   "source": [
    "import numpy as np\n",
    "\n",
    "# Create a NumPy ndarray\n",
    "ndarray = np.array([[1, 2, 3], [4, 5, 6], [7, 8, 9]])\n",
    "print(ndarray)\n",
    "# Convert the ndarray to a Python list\n",
    "python_list = ndarray.tolist()\n",
    "\n",
    "# Print the Python list\n",
    "print(python_list)\n"
   ]
  },
  {
   "cell_type": "code",
   "execution_count": 4,
   "metadata": {},
   "outputs": [
    {
     "name": "stdout",
     "output_type": "stream",
     "text": [
      "[[1, 2, 3], [4, 5, 6], [7, 8, 9]]\n"
     ]
    }
   ],
   "source": [
    "# 定义空的二维数组\n",
    "empty_two_dimensional_array = []\n",
    "\n",
    "# 添加第一行\n",
    "row1 = [1, 2, 3]\n",
    "empty_two_dimensional_array.append(row1)\n",
    "\n",
    "# 添加第二行\n",
    "row2 = [4, 5, 6]\n",
    "empty_two_dimensional_array.append(row2)\n",
    "\n",
    "# 添加第三行\n",
    "row3 = [7, 8, 9]\n",
    "empty_two_dimensional_array.append(row3)\n",
    "\n",
    "# 打印二维数组\n",
    "print(empty_two_dimensional_array)\n"
   ]
  },
  {
   "cell_type": "code",
   "execution_count": 3,
   "metadata": {},
   "outputs": [
    {
     "name": "stdout",
     "output_type": "stream",
     "text": [
      "[[1, 2, 3], [4, 5, 6]]\n",
      "[[7, 8, 9], [10, 11, 12]]\n",
      "[[13, 14, 15], [16, 17, 18]]\n"
     ]
    }
   ],
   "source": [
    "# 定义一个三维数组\n",
    "three_dimensional_array = [\n",
    "    [[1, 2, 3], [4, 5, 6]],\n",
    "    [[7, 8, 9], [10, 11, 12]],\n",
    "    [[13, 14, 15], [16, 17, 18]]\n",
    "]\n",
    "\n",
    "# 使用多重嵌套循环遍历三维数组\n",
    "for i in three_dimensional_array:\n",
    "    print(i)\n",
    "    #print(f\"Element at index ({i}) is {three_dimensional_array[i]}\")"
   ]
  },
  {
   "cell_type": "code",
   "execution_count": 1,
   "metadata": {},
   "outputs": [
    {
     "name": "stdout",
     "output_type": "stream",
     "text": [
      "Element at index (0, 0, 0) is 1\n",
      "Element at index (0, 0, 1) is 2\n",
      "Element at index (0, 0, 2) is 3\n",
      "Element at index (0, 1, 0) is 4\n",
      "Element at index (0, 1, 1) is 5\n",
      "Element at index (0, 1, 2) is 6\n",
      "Element at index (1, 0, 0) is 7\n",
      "Element at index (1, 0, 1) is 8\n",
      "Element at index (1, 0, 2) is 9\n",
      "Element at index (1, 1, 0) is 10\n",
      "Element at index (1, 1, 1) is 11\n",
      "Element at index (1, 1, 2) is 12\n",
      "Element at index (2, 0, 0) is 13\n",
      "Element at index (2, 0, 1) is 14\n",
      "Element at index (2, 0, 2) is 15\n",
      "Element at index (2, 1, 0) is 16\n",
      "Element at index (2, 1, 1) is 17\n",
      "Element at index (2, 1, 2) is 18\n"
     ]
    }
   ],
   "source": [
    "# 定义一个三维数组\n",
    "three_dimensional_array = [\n",
    "    [[1, 2, 3], [4, 5, 6]],\n",
    "    [[7, 8, 9], [10, 11, 12]],\n",
    "    [[13, 14, 15], [16, 17, 18]]\n",
    "]\n",
    "\n",
    "# 使用多重嵌套循环遍历三维数组\n",
    "for i in range(len(three_dimensional_array)):\n",
    "    for j in range(len(three_dimensional_array[i])):\n",
    "        for k in range(len(three_dimensional_array[i][j])):\n",
    "            print(f\"Element at index ({i}, {j}, {k}) is {three_dimensional_array[i][j][k]}\")\n"
   ]
  }
 ],
 "metadata": {
  "kernelspec": {
   "display_name": "Python 3",
   "language": "python",
   "name": "python3"
  },
  "language_info": {
   "codemirror_mode": {
    "name": "ipython",
    "version": 3
   },
   "file_extension": ".py",
   "mimetype": "text/x-python",
   "name": "python",
   "nbconvert_exporter": "python",
   "pygments_lexer": "ipython3",
   "version": "3.8.0"
  }
 },
 "nbformat": 4,
 "nbformat_minor": 2
}
