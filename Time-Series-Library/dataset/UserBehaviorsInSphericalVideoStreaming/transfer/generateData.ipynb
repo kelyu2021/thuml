{
 "cells": [
  {
   "cell_type": "code",
   "execution_count": 100,
   "metadata": {},
   "outputs": [],
   "source": [
    "import pandas as pd\n",
    "import tqdm.auto as tqdm\n",
    "\n",
    "complete_to_two_digits = lambda x: str(x).zfill(2) if x < 10 else str(x)\n",
    "\n",
    "def read_csv_file(user_id, video_id):\n",
    "    filepath = f'../Formated_Data/Experiment_1/{user_id}/video_{video_id}.csv'\n",
    "    #print(filepath)\n",
    "    df = pd.read_csv(filepath)\n",
    "    \n",
    "    return df\n",
    "\n",
    "csv_data = []\n",
    "for user_id in range(1, 49):\n",
    "    user_data = []\n",
    "    for video_id in range(0, 9):\n",
    "\n",
    "        df = read_csv_file(user_id, video_id)\n",
    " \n",
    "        df['user_id'] = user_id # 添加标签（用户ID）\n",
    "        df['video_id'] = video_id # 添加video_id字段\n",
    "        #df['Timestamp'] = pd.to_datetime(df['Timestamp'], unit='s')\n",
    "        df['timestamp_floor'] = pd.to_datetime(df['Timestamp']).dt.floor('100ms')\n",
    "        user_data.append(df)\n",
    "\n",
    "    user_data_combined = pd.concat(user_data, ignore_index=True)\n",
    "    csv_data.append(user_data_combined)\n",
    "\n",
    "csv_data = pd.concat(csv_data, ignore_index=True)\n"
   ]
  },
  {
   "cell_type": "markdown",
   "metadata": {},
   "source": []
  },
  {
   "cell_type": "code",
   "execution_count": 102,
   "metadata": {},
   "outputs": [
    {
     "data": {
      "text/plain": [
       "Timestamp                   object\n",
       "PlaybackTime               float64\n",
       "UnitQuaternion.x           float64\n",
       "UnitQuaternion.y           float64\n",
       "UnitQuaternion.z           float64\n",
       "UnitQuaternion.w           float64\n",
       "HmdPosition.x              float64\n",
       "HmdPosition.y              float64\n",
       "HmdPosition.z              float64\n",
       "user_id                      int64\n",
       "video_id                     int64\n",
       "timestamp_floor     datetime64[ns]\n",
       "dtype: object"
      ]
     },
     "execution_count": 102,
     "metadata": {},
     "output_type": "execute_result"
    }
   ],
   "source": [
    "csv_data.dtypes"
   ]
  },
  {
   "cell_type": "code",
   "execution_count": 114,
   "metadata": {},
   "outputs": [],
   "source": [
    "from datetime import timedelta\n",
    "import numpy as np\n",
    "import random\n",
    "from tqdm.auto import tqdm\n",
    "\n",
    "def process_data(csv_data):\n",
    "\n",
    "    data_0, data_1, data_2, data_3, data_4, data_5, data_6, data_7, data_8 = [], [], [], [], [], [], [], [], []\n",
    "    labels_0, labels_1, labels_2, labels_3, labels_4, labels_5, labels_6, labels_7, labels_8 = [], [], [], [], [], [], [], [], []\n",
    "\n",
    "    for user_id, user_data in tqdm(csv_data.groupby('user_id')):\n",
    "        for video_id, video_data in user_data.groupby('video_id'):\n",
    "            for _, floor_data in video_data.groupby(video_data['timestamp_floor']):\n",
    "                floor_data = floor_data[['UnitQuaternion.x', 'UnitQuaternion.y', 'UnitQuaternion.z', 'UnitQuaternion.w', 'HmdPosition.x', 'HmdPosition.y', 'HmdPosition.z']]\n",
    "                if video_id == 0:\n",
    "                    data_0.append(round(floor_data.mean(), 5).values)\n",
    "                    labels_0.append(user_id)\n",
    "                elif video_id == 1:\n",
    "                    data_1.append(round(floor_data.mean(), 5).values)\n",
    "                    labels_1.append(user_id)\n",
    "                elif video_id == 2:\n",
    "                    data_2.append(round(floor_data.mean(), 5).values)\n",
    "                    labels_2.append(user_id)\n",
    "                elif video_id == 3:\n",
    "                    data_3.append(round(floor_data.mean(), 5).values)\n",
    "                    labels_3.append(user_id)\n",
    "                elif video_id == 4:\n",
    "                    data_4.append(round(floor_data.mean(), 5).values)\n",
    "                    labels_4.append(user_id)\n",
    "                elif video_id == 5:\n",
    "                    data_5.append(round(floor_data.mean(), 5).values)\n",
    "                    labels_5.append(user_id)\n",
    "                elif video_id == 6:\n",
    "                    data_6.append(round(floor_data.mean(), 5).values)\n",
    "                    labels_6.append(user_id)\n",
    "                elif video_id == 7:\n",
    "                    data_7.append(round(floor_data.mean(), 5).values)\n",
    "                    labels_7.append(user_id)\n",
    "                elif video_id == 8:\n",
    "                    data_8.append(round(floor_data.mean(), 5).values)\n",
    "                    labels_8.append(user_id)\n",
    "\n",
    "    return np.array(data_0), np.array(labels_0), np.array(data_1), np.array(labels_1), \\\n",
    "            np.array(data_2), np.array(labels_2), np.array(data_3), np.array(labels_3), \\\n",
    "            np.array(data_4), np.array(labels_4), np.array(data_5), np.array(labels_5), \\\n",
    "            np.array(data_6), np.array(labels_6), np.array(data_7), np.array(labels_7), \\\n",
    "            np.array(data_8), np.array(labels_8)"
   ]
  },
  {
   "cell_type": "code",
   "execution_count": 115,
   "metadata": {},
   "outputs": [
    {
     "data": {
      "application/vnd.jupyter.widget-view+json": {
       "model_id": "c47ff50dec8e4b148c1ff6f2cb9254eb",
       "version_major": 2,
       "version_minor": 0
      },
      "text/plain": [
       "  0%|          | 0/48 [00:00<?, ?it/s]"
      ]
     },
     "metadata": {},
     "output_type": "display_data"
    }
   ],
   "source": [
    "data_0, labels_0, data_1, labels_1, data_2, labels_2, data_3, labels_3, data_4, labels_4, data_5, labels_5, data_6, labels_6, data_7, labels_7, data_8, labels_8 = process_data(csv_data)"
   ]
  },
  {
   "cell_type": "code",
   "execution_count": 116,
   "metadata": {},
   "outputs": [
    {
     "name": "stdout",
     "output_type": "stream",
     "text": [
      "data_0.shape: (78978, 7)\n",
      "labels_0.shape: (78978,)\n",
      "data_1.shape: (97550, 7)\n",
      "labels_1.shape: (97550,)\n",
      "data_2.shape: (140903, 7)\n",
      "labels_2.shape: (140903,)\n",
      "data_3.shape: (83017, 7)\n",
      "labels_3.shape: (83017,)\n",
      "data_4.shape: (98922, 7)\n",
      "labels_4.shape: (98922,)\n",
      "data_5.shape: (314629, 7)\n",
      "labels_5.shape: (314629,)\n",
      "data_6.shape: (217545, 7)\n",
      "labels_6.shape: (217545,)\n",
      "data_7.shape: (80601, 7)\n",
      "labels_7.shape: (80601,)\n",
      "data_8.shape: (143948, 7)\n",
      "labels_8.shape: (143948,)\n"
     ]
    }
   ],
   "source": [
    "print('data_0.shape: {}'.format(data_0.shape))\n",
    "print('labels_0.shape: {}'.format(labels_0.shape))\n",
    "print('data_1.shape: {}'.format(data_1.shape))\n",
    "print('labels_1.shape: {}'.format(labels_1.shape))\n",
    "print('data_2.shape: {}'.format(data_2.shape))\n",
    "print('labels_2.shape: {}'.format(labels_2.shape))\n",
    "print('data_3.shape: {}'.format(data_3.shape))\n",
    "print('labels_3.shape: {}'.format(labels_3.shape))\n",
    "print('data_4.shape: {}'.format(data_4.shape))\n",
    "print('labels_4.shape: {}'.format(labels_4.shape))\n",
    "print('data_5.shape: {}'.format(data_5.shape))\n",
    "print('labels_5.shape: {}'.format(labels_5.shape))\n",
    "print('data_6.shape: {}'.format(data_6.shape))\n",
    "print('labels_6.shape: {}'.format(labels_6.shape))\n",
    "print('data_7.shape: {}'.format(data_7.shape))\n",
    "print('labels_7.shape: {}'.format(labels_7.shape))\n",
    "print('data_8.shape: {}'.format(data_8.shape))\n",
    "print('labels_8.shape: {}'.format(labels_8.shape))\n"
   ]
  },
  {
   "cell_type": "code",
   "execution_count": 117,
   "metadata": {},
   "outputs": [],
   "source": [
    "def append_to_file(input_file, output_file, additional_content):\n",
    "    with open(input_file, 'r') as f:\n",
    "        original_content = f.read()\n",
    "\n",
    "    new_content = original_content + '\\n' + additional_content\n",
    "\n",
    "    with open(output_file, 'w') as f:\n",
    "        f.write(new_content)\n"
   ]
  },
  {
   "cell_type": "code",
   "execution_count": 118,
   "metadata": {},
   "outputs": [],
   "source": [
    "def initTimeNetData(data, label, step):\n",
    "    append_string = \"\"\n",
    "    for i in range(0, len(label), step):\n",
    "        group = label[i:i+step]\n",
    "        if len(set(group)) == 1:\n",
    "            temp_transposed_matrix = np.transpose(data[i:i+step])\n",
    "            append_string += \":\".join([\",\".join(map(str, row)) for row in temp_transposed_matrix])\n",
    "            append_string += \":\" + str(group[0]) + \"\\n\"\n",
    "\n",
    "    return append_string"
   ]
  },
  {
   "cell_type": "code",
   "execution_count": 119,
   "metadata": {},
   "outputs": [
    {
     "ename": "ValueError",
     "evalue": "all the input array dimensions for the concatenation axis must match exactly, but along dimension 1, the array at index 0 has size 97550 and the array at index 1 has size 140903",
     "output_type": "error",
     "traceback": [
      "\u001b[0;31m---------------------------------------------------------------------------\u001b[0m",
      "\u001b[0;31mValueError\u001b[0m                                Traceback (most recent call last)",
      "Cell \u001b[0;32mIn[119], line 8\u001b[0m\n\u001b[1;32m      6\u001b[0m \u001b[38;5;28;01mif\u001b[39;00m i \u001b[38;5;241m==\u001b[39m \u001b[38;5;241m0\u001b[39m:\n\u001b[1;32m      7\u001b[0m     train_data \u001b[38;5;241m=\u001b[39m np\u001b[38;5;241m.\u001b[39mvstack((data_1, data_2, data_3, data_4, data_5, data_6, data_7, data_8))\n\u001b[0;32m----> 8\u001b[0m     train_labels \u001b[38;5;241m=\u001b[39m \u001b[43mnp\u001b[49m\u001b[38;5;241;43m.\u001b[39;49m\u001b[43mvstack\u001b[49m\u001b[43m(\u001b[49m\u001b[43m(\u001b[49m\u001b[43mlabels_1\u001b[49m\u001b[43m,\u001b[49m\u001b[43m \u001b[49m\u001b[43mlabels_2\u001b[49m\u001b[43m,\u001b[49m\u001b[43m \u001b[49m\u001b[43mlabels_3\u001b[49m\u001b[43m,\u001b[49m\u001b[43m \u001b[49m\u001b[43mlabels_4\u001b[49m\u001b[43m,\u001b[49m\u001b[43m \u001b[49m\u001b[43mlabels_5\u001b[49m\u001b[43m,\u001b[49m\u001b[43m \u001b[49m\u001b[43mlabels_6\u001b[49m\u001b[43m,\u001b[49m\u001b[43m \u001b[49m\u001b[43mlabels_7\u001b[49m\u001b[43m,\u001b[49m\u001b[43m \u001b[49m\u001b[43mlabels_8\u001b[49m\u001b[43m)\u001b[49m\u001b[43m)\u001b[49m\n\u001b[1;32m      9\u001b[0m     test_data \u001b[38;5;241m=\u001b[39m data_0\n\u001b[1;32m     10\u001b[0m     test_labels \u001b[38;5;241m=\u001b[39m labels_0\n",
      "File \u001b[0;32m<__array_function__ internals>:180\u001b[0m, in \u001b[0;36mvstack\u001b[0;34m(*args, **kwargs)\u001b[0m\n",
      "File \u001b[0;32m/Library/Frameworks/Python.framework/Versions/3.8/lib/python3.8/site-packages/numpy/core/shape_base.py:282\u001b[0m, in \u001b[0;36mvstack\u001b[0;34m(tup)\u001b[0m\n\u001b[1;32m    280\u001b[0m \u001b[38;5;28;01mif\u001b[39;00m \u001b[38;5;129;01mnot\u001b[39;00m \u001b[38;5;28misinstance\u001b[39m(arrs, \u001b[38;5;28mlist\u001b[39m):\n\u001b[1;32m    281\u001b[0m     arrs \u001b[38;5;241m=\u001b[39m [arrs]\n\u001b[0;32m--> 282\u001b[0m \u001b[38;5;28;01mreturn\u001b[39;00m \u001b[43m_nx\u001b[49m\u001b[38;5;241;43m.\u001b[39;49m\u001b[43mconcatenate\u001b[49m\u001b[43m(\u001b[49m\u001b[43marrs\u001b[49m\u001b[43m,\u001b[49m\u001b[43m \u001b[49m\u001b[38;5;241;43m0\u001b[39;49m\u001b[43m)\u001b[49m\n",
      "File \u001b[0;32m<__array_function__ internals>:180\u001b[0m, in \u001b[0;36mconcatenate\u001b[0;34m(*args, **kwargs)\u001b[0m\n",
      "\u001b[0;31mValueError\u001b[0m: all the input array dimensions for the concatenation axis must match exactly, but along dimension 1, the array at index 0 has size 97550 and the array at index 1 has size 140903"
     ]
    }
   ],
   "source": [
    "for i in range(9):\n",
    "    train_data = []\n",
    "    train_labels = []\n",
    "    test_data = []\n",
    "    test_labels = []\n",
    "    if i == 0:\n",
    "        train_data = np.vstack((data_1, data_2, data_3, data_4, data_5, data_6, data_7, data_8))\n",
    "        train_labels = np.hstack((labels_1, labels_2, labels_3, labels_4, labels_5, labels_6, labels_7, labels_8))\n",
    "        test_data = data_0\n",
    "        test_labels = labels_0\n",
    "    elif i == 1:\n",
    "        train_data = np.vstack((data_0, data_2, data_3, data_4, data_5, data_6, data_7, data_8))\n",
    "        train_labels = np.hstack((labels_0, labels_2, labels_3, labels_4, labels_5, labels_6, labels_7, labels_8))\n",
    "        test_data = data_1\n",
    "        test_labels = labels_1\n",
    "    elif i == 2:\n",
    "        train_data = np.vstack((data_0, data_1, data_3, data_4, data_5, data_6, data_7, data_8))\n",
    "        train_labels = np.hstack((labels_0, labels_1, labels_3, labels_4, labels_5, labels_6, labels_7, labels_8))\n",
    "        test_data = data_2\n",
    "        test_labels = labels_2\n",
    "    elif i == 3:\n",
    "        train_data = np.vstack((data_0, data_1, data_2, data_4, data_5, data_6, data_7, data_8))\n",
    "        train_labels = np.hstack((labels_0, labels_1, labels_2, labels_4, labels_5, labels_6, labels_7, labels_8))\n",
    "        test_data = data_3\n",
    "        test_labels = labels_3\n",
    "    elif i == 4:\n",
    "        train_data = np.vstack((data_0, data_1, data_2, data_3, data_5, data_6, data_7, data_8))\n",
    "        train_labels = np.hstack((labels_0, labels_1, labels_2, labels_3, labels_5, labels_6, labels_7, labels_8))\n",
    "        test_data = data_4\n",
    "        test_labels = labels_4\n",
    "    elif i == 5:\n",
    "        train_data = np.vstack((data_0, data_1, data_2, data_3, data_4, data_6, data_7, data_8))\n",
    "        train_labels = np.hstack((labels_0, labels_1, labels_2, labels_3, labels_4, labels_6, labels_7, labels_8))\n",
    "        test_data = data_5\n",
    "        test_labels = labels_5\n",
    "    elif i == 6:\n",
    "        train_data = np.vstack((data_0, data_1, data_2, data_3, data_4, data_5, data_7, data_8))\n",
    "        train_labels = np.hstack((labels_0, labels_1, labels_2, labels_3, labels_4, labels_5, labels_7, labels_8))\n",
    "        test_data = data_6\n",
    "        test_labels = labels_6\n",
    "    elif i == 7:\n",
    "        train_data = np.vstack((data_0, data_1, data_2, data_3, data_4, data_5, data_6, data_8))\n",
    "        train_labels = np.hstack((labels_0, labels_1, labels_2, labels_3, labels_4, labels_5, labels_6, labels_8))\n",
    "        test_data = data_7\n",
    "        test_labels = labels_7\n",
    "    elif i == 8:\n",
    "        train_data = np.vstack((data_0, data_1, data_2, data_3, data_4, data_5, data_6, data_7))\n",
    "        train_labels = np.hstack((labels_0, labels_1, labels_2, labels_3, labels_4, labels_5, labels_6, labels_7))\n",
    "        test_data = data_8\n",
    "        test_labels = labels_8\n",
    "    append_train_string = initTimeNetData(train_data, train_labels, 38)\n",
    "    append_to_file('template.ts', f'UserIdentify{i}_TRAIN.ts', append_train_string)\n",
    "    append_test_string = initTimeNetData(test_data, test_labels, 28)\n",
    "    append_to_file('template.ts', f'UserIdentify{i}_TEST.ts', append_test_string)"
   ]
  }
 ],
 "metadata": {
  "kernelspec": {
   "display_name": "Python 3",
   "language": "python",
   "name": "python3"
  },
  "language_info": {
   "codemirror_mode": {
    "name": "ipython",
    "version": 3
   },
   "file_extension": ".py",
   "mimetype": "text/x-python",
   "name": "python",
   "nbconvert_exporter": "python",
   "pygments_lexer": "ipython3",
   "version": "3.8.0"
  }
 },
 "nbformat": 4,
 "nbformat_minor": 2
}
