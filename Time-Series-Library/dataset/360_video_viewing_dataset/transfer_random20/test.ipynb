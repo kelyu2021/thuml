{
 "cells": [
  {
   "cell_type": "code",
   "execution_count": 29,
   "metadata": {},
   "outputs": [],
   "source": [
    "def append_to_file(input_file, output_file, additional_content):\n",
    "    # 打开指定的文件并读取内容\n",
    "    with open(input_file, 'r') as f:\n",
    "        original_content = f.read()\n",
    "\n",
    "    # 将额外的内容添加到原始内容的末尾\n",
    "    new_content = original_content + '\\n' + additional_content\n",
    "\n",
    "    # 将新内容写入到新文件中\n",
    "    with open(output_file, 'w') as f:\n",
    "        f.write(new_content)\n",
    "\n",
    "# 定义要追加到文件末尾的内容\n",
    "additional_content = \"This is some additional content.\"\n",
    "\n",
    "# 调用函数并指定输入文件、输出文件和额外内容\n",
    "append_to_file('template.ts', 'train.ts', additional_content)"
   ]
  },
  {
   "cell_type": "code",
   "execution_count": 27,
   "metadata": {},
   "outputs": [
    {
     "name": "stdout",
     "output_type": "stream",
     "text": [
      "1,2,3:4,5,6:7,8,9\n"
     ]
    }
   ],
   "source": [
    "# 定义一个二维数组\n",
    "two_dimensional_array = [[1, 2, 3],\n",
    "                        [4, 5, 6],\n",
    "                        [7, 8, 9]]\n",
    "\n",
    "# 使用嵌套的列表推导式遍历二维数组并生成字符串\n",
    "result_string = \":\".join([\",\".join(map(str, row)) for row in two_dimensional_array])\n",
    "\n",
    "# 打印生成的字符串\n",
    "print(result_string)\n"
   ]
  },
  {
   "cell_type": "code",
   "execution_count": 26,
   "metadata": {},
   "outputs": [
    {
     "name": "stdout",
     "output_type": "stream",
     "text": [
      "1\n",
      "2\n"
     ]
    }
   ],
   "source": [
    "my_set = {4, 2, 7, 1, 3, 3}\n",
    "\n",
    "print(my_set.pop())\n",
    "print(my_set.pop())\n",
    "my_set.\n",
    "\n"
   ]
  },
  {
   "cell_type": "code",
   "execution_count": 15,
   "metadata": {},
   "outputs": [
    {
     "name": "stdout",
     "output_type": "stream",
     "text": [
      "[[87 26 21 15 94 12]\n",
      " [29 23 88 54 76 23]\n",
      " [34 47 76 85 81 22]\n",
      " [74  8 70 82 96 46]\n",
      " [98 59 29 71 57 87]\n",
      " [66 87 69 89 83 62]\n",
      " [74 42 57 69 65 94]\n",
      " [41 67 87 14 76 54]\n",
      " [80 22  6 92 53 13]\n",
      " [71 58 98 57 75 12]\n",
      " [ 1 64 99 69 79 34]\n",
      " [58 80 50 59 30 31]\n",
      " [58 77 49 80 77 35]\n",
      " [41 59 35 93  0 71]\n",
      " [20 48 61 45 27 45]\n",
      " [97 60  2 15 13 21]\n",
      " [47 23 45 42 12 78]\n",
      " [ 7 40 51 50 61 17]\n",
      " [ 6 86 65 62 62  3]\n",
      " [68 95 69 81 21 91]\n",
      " [ 1 72 18 24 20 98]\n",
      " [ 4 65 72 97 64 89]\n",
      " [42 54 11 99  7 95]\n",
      " [17 59 64 30 32 64]\n",
      " [31 92 18 97 23  0]\n",
      " [45 38 37  6 69 75]\n",
      " [65 65 32 90 34 46]\n",
      " [13 54 70  3 89  1]\n",
      " [92 28  3 97 77 36]\n",
      " [73 39 67 64 85  3]\n",
      " [51 31 43 91 54 71]\n",
      " [68 30 58 56 86 10]\n",
      " [ 2 59 38 14 36 13]\n",
      " [89 40 16 13 12 89]\n",
      " [20 58 19 27 10 73]\n",
      " [ 5 44 20  7  6 52]\n",
      " [26 78 40 84 24 74]\n",
      " [81 40 38 38  1 56]\n",
      " [50 84 54 17 54 89]\n",
      " [18 98  1 40 75 34]\n",
      " [63  1 82 45 97 29]\n",
      " [55  9 32 15 57 95]\n",
      " [88 98 42 69 62 40]\n",
      " [19 38 36 63 16 23]\n",
      " [28 60  3 76 43 11]\n",
      " [31 14  2  0 74 61]\n",
      " [ 1 68  3 82 58  3]\n",
      " [94  7 61 91 25 12]\n",
      " [63 77 61 95 99 80]\n",
      " [18  3  2 46 45 10]]\n",
      "[[87 29 34 74 98 66 74 41 80 71  1 58 58 41 20 97 47  7  6 68  1  4 42 17\n",
      "  31 45 65 13 92 73 51 68  2 89 20  5 26 81]\n",
      " [26 23 47  8 59 87 42 67 22 58 64 80 77 59 48 60 23 40 86 95 72 65 54 59\n",
      "  92 38 65 54 28 39 31 30 59 40 58 44 78 40]\n",
      " [21 88 76 70 29 69 57 87  6 98 99 50 49 35 61  2 45 51 65 69 18 72 11 64\n",
      "  18 37 32 70  3 67 43 58 38 16 19 20 40 38]\n",
      " [15 54 85 82 71 89 69 14 92 57 69 59 80 93 45 15 42 50 62 81 24 97 99 30\n",
      "  97  6 90  3 97 64 91 56 14 13 27  7 84 38]\n",
      " [94 76 81 96 57 83 65 76 53 75 79 30 77  0 27 13 12 61 62 21 20 64  7 32\n",
      "  23 69 34 89 77 85 54 86 36 12 10  6 24  1]\n",
      " [12 23 22 46 87 62 94 54 13 12 34 31 35 71 45 21 78 17  3 91 98 89 95 64\n",
      "   0 75 46  1 36  3 71 10 13 89 73 52 74 56]]\n"
     ]
    }
   ],
   "source": [
    "import numpy as np\n",
    "\n",
    "# 定义数组的行数和列数\n",
    "rows = 50\n",
    "cols = 6\n",
    "\n",
    "# 使用 NumPy 生成一个随机整数数组\n",
    "array = np.random.randint(0, 100, size=(rows, cols))\n",
    "\n",
    "# 打印生成的数组\n",
    "print(array)\n",
    "\n",
    "print(np.transpose(array[0:38]))\n"
   ]
  },
  {
   "cell_type": "code",
   "execution_count": 11,
   "metadata": {},
   "outputs": [
    {
     "name": "stdout",
     "output_type": "stream",
     "text": [
      "[[4 5 6 4 5 6]]\n"
     ]
    }
   ],
   "source": [
    "# 定义一个矩阵\n",
    "matrix = np.array([[1, 2, 3, 4, 5, 6],\n",
    "                   [4, 5, 6, 4, 5, 6],\n",
    "                   [7, 8, 9, 4, 5, 6]])\n",
    "\n",
    "print(matrix[1:2])"
   ]
  },
  {
   "cell_type": "code",
   "execution_count": 9,
   "metadata": {},
   "outputs": [
    {
     "name": "stdout",
     "output_type": "stream",
     "text": [
      "数组中的元素在第 1 到第 10 个位置上相等：[1, 1, 1, 1, 1, 1, 1, 1, 1, 1]\n",
      "数组中的元素在第 11 到第 20 个位置上不全相等：[11, 12, 13, 14, 15, 16, 17, 18, 19, 20]\n",
      "数组中的元素在第 21 到第 30 个位置上不全相等：[21, 22, 23, 24, 25, 26, 27, 28, 29, 30]\n"
     ]
    }
   ],
   "source": [
    "# 定义一个数组\n",
    "array = [1, 1, 1, 1, 1, 1, 1, 1, 1, 1,\n",
    "         11, 12, 13, 14, 15, 16, 17, 18, 19, 20,\n",
    "         21, 22, 23, 24, 25, 26, 27, 28, 29, 30]\n",
    "\n",
    "# 每十个一组判断数组中的元素是否相等\n",
    "for i in range(0, len(array), 10):\n",
    "    group = array[i:i+10]\n",
    "    if len(set(group)) == 1:\n",
    "        print(f\"数组中的元素在第 {i+1} 到第 {i+10} 个位置上相等：{group}\")\n",
    "    else:\n",
    "        print(f\"数组中的元素在第 {i+1} 到第 {i+10} 个位置上不全相等：{group}\")\n"
   ]
  },
  {
   "cell_type": "code",
   "execution_count": 7,
   "metadata": {},
   "outputs": [
    {
     "name": "stdout",
     "output_type": "stream",
     "text": [
      "原始矩阵：\n",
      "[[1 2 3 4 5 6]\n",
      " [4 5 6 4 5 6]\n",
      " [7 8 9 4 5 6]]\n",
      "\n",
      "转置后的矩阵：\n",
      "[[1 4 7]\n",
      " [2 5 8]\n",
      " [3 6 9]\n",
      " [4 4 4]\n",
      " [5 5 5]\n",
      " [6 6 6]]\n"
     ]
    }
   ],
   "source": [
    "import numpy as np\n",
    "\n",
    "# 定义一个矩阵\n",
    "matrix = np.array([[1, 2, 3, 4, 5, 6],\n",
    "                   [4, 5, 6, 4, 5, 6],\n",
    "                   [7, 8, 9, 4, 5, 6]])\n",
    "\n",
    "# 输出原始矩阵\n",
    "print(\"原始矩阵：\")\n",
    "print(matrix)\n",
    "\n",
    "# 使用转置操作进行行列转置\n",
    "transposed_matrix = np.transpose(matrix)\n",
    "\n",
    "# 输出转置后的矩阵\n",
    "print(\"\\n转置后的矩阵：\")\n",
    "print(transposed_matrix)\n"
   ]
  },
  {
   "cell_type": "code",
   "execution_count": null,
   "metadata": {},
   "outputs": [],
   "source": [
    "import random\n",
    "\n",
    "# 生成一个1位随机数\n",
    "random_number = random.choice(range(0, 5))\n",
    "\n",
    "# 打印生成的随机数\n",
    "print(random_number)"
   ]
  },
  {
   "cell_type": "code",
   "execution_count": 5,
   "metadata": {},
   "outputs": [
    {
     "name": "stdout",
     "output_type": "stream",
     "text": [
      "a\n",
      "b\n",
      "c\n"
     ]
    }
   ],
   "source": [
    "my_array = ['a', 'b', 'c']\n",
    "\n",
    "# 使用 for 循环遍历数组\n",
    "for element in my_array:\n",
    "    print(element)\n"
   ]
  },
  {
   "cell_type": "code",
   "execution_count": 1,
   "metadata": {},
   "outputs": [
    {
     "name": "stderr",
     "output_type": "stream",
     "text": [
      "Processing: 100%|██████████| 100/100 [00:10<00:00,  9.47it/s]"
     ]
    },
    {
     "name": "stdout",
     "output_type": "stream",
     "text": [
      "Processing complete!\n"
     ]
    },
    {
     "name": "stderr",
     "output_type": "stream",
     "text": [
      "\n"
     ]
    }
   ],
   "source": [
    "from tqdm import tqdm\n",
    "import time\n",
    "\n",
    "# Define the number of iterations for the loop\n",
    "total_iterations = 100\n",
    "\n",
    "# Initialize tqdm with the total number of iterations\n",
    "with tqdm(total=total_iterations, desc=\"Processing\") as pbar:\n",
    "    for i in range(total_iterations):\n",
    "        # Simulate some processing time\n",
    "        time.sleep(0.1)\n",
    "        # Update the progress bar\n",
    "        pbar.update(1)\n",
    "\n",
    "print(\"Processing complete!\")\n"
   ]
  },
  {
   "cell_type": "code",
   "execution_count": 3,
   "metadata": {},
   "outputs": [
    {
     "name": "stdout",
     "output_type": "stream",
     "text": [
      "0\n",
      "1\n",
      "2\n",
      "3\n",
      "4\n",
      "5\n",
      "6\n",
      "7\n",
      "8\n"
     ]
    }
   ],
   "source": [
    "for i in range(0, 9):\n",
    "    print(i)"
   ]
  }
 ],
 "metadata": {
  "kernelspec": {
   "display_name": "Python 3",
   "language": "python",
   "name": "python3"
  },
  "language_info": {
   "codemirror_mode": {
    "name": "ipython",
    "version": 3
   },
   "file_extension": ".py",
   "mimetype": "text/x-python",
   "name": "python",
   "nbconvert_exporter": "python",
   "pygments_lexer": "ipython3",
   "version": "3.8.0"
  }
 },
 "nbformat": 4,
 "nbformat_minor": 2
}
