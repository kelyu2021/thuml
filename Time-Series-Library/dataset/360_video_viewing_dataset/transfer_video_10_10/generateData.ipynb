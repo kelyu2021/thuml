{
 "cells": [
  {
   "cell_type": "code",
   "execution_count": 1,
   "metadata": {},
   "outputs": [],
   "source": [
    "import pandas as pd\n",
    "import tqdm.auto as tqdm\n",
    "\n",
    "complete_to_two_digits = lambda x: str(x).zfill(2) if x < 10 else str(x)\n",
    "\n",
    "def read_csv_file(user_id, video_id):\n",
    "    filepath = f'../sensory/raw/{video_id}_user{user_id}_raw.csv'\n",
    "    #print(filepath)\n",
    "    df = pd.read_csv(filepath)\n",
    "    \n",
    "    return df\n",
    "\n",
    "csv_data = []\n",
    "video_ids = ['coaster', 'coaster2', 'diving', 'drive', 'game', 'landscape', 'pacman', 'panel', 'ride', 'sport']\n",
    "for user_id in range(1, 51):\n",
    "    user_data = []\n",
    "    for video_id in video_ids:\n",
    "\n",
    "        df = read_csv_file(complete_to_two_digits(user_id), video_id)\n",
    " \n",
    "        df['user_id'] = user_id # 添加标签（用户ID）\n",
    "        df['video_id'] = video_id # 添加video_id字段\n",
    "        df['timestamp'] = pd.to_datetime(df['timestamp'], unit='s')\n",
    "        df['timestamp_floor'] = pd.to_datetime(df['timestamp'], unit='s').dt.floor('100ms')\n",
    "        user_data.append(df)\n",
    "\n",
    "    user_data_combined = pd.concat(user_data, ignore_index=True)\n",
    "    csv_data.append(user_data_combined)\n",
    "\n",
    "csv_data = pd.concat(csv_data, ignore_index=True)\n"
   ]
  },
  {
   "cell_type": "markdown",
   "metadata": {},
   "source": []
  },
  {
   "cell_type": "code",
   "execution_count": 2,
   "metadata": {},
   "outputs": [
    {
     "data": {
      "text/html": [
       "<div>\n",
       "<style scoped>\n",
       "    .dataframe tbody tr th:only-of-type {\n",
       "        vertical-align: middle;\n",
       "    }\n",
       "\n",
       "    .dataframe tbody tr th {\n",
       "        vertical-align: top;\n",
       "    }\n",
       "\n",
       "    .dataframe thead th {\n",
       "        text-align: right;\n",
       "    }\n",
       "</style>\n",
       "<table border=\"1\" class=\"dataframe\">\n",
       "  <thead>\n",
       "    <tr style=\"text-align: right;\">\n",
       "      <th></th>\n",
       "      <th>timestamp</th>\n",
       "      <th>rawTX</th>\n",
       "      <th>rawTY</th>\n",
       "      <th>rawTZ</th>\n",
       "      <th>rawYaw</th>\n",
       "      <th>rawPitch</th>\n",
       "      <th>rawRoll</th>\n",
       "      <th>user_id</th>\n",
       "      <th>video_id</th>\n",
       "      <th>timestamp_floor</th>\n",
       "    </tr>\n",
       "  </thead>\n",
       "  <tbody>\n",
       "    <tr>\n",
       "      <th>0</th>\n",
       "      <td>2017-03-17 08:09:50.316999936</td>\n",
       "      <td>10.073</td>\n",
       "      <td>-0.109</td>\n",
       "      <td>-0.587</td>\n",
       "      <td>-16.907</td>\n",
       "      <td>-1.869</td>\n",
       "      <td>-2.928</td>\n",
       "      <td>1</td>\n",
       "      <td>coaster</td>\n",
       "      <td>2017-03-17 08:09:50.300</td>\n",
       "    </tr>\n",
       "    <tr>\n",
       "      <th>1</th>\n",
       "      <td>2017-03-17 08:09:50.324999936</td>\n",
       "      <td>10.071</td>\n",
       "      <td>-0.108</td>\n",
       "      <td>-0.587</td>\n",
       "      <td>-16.907</td>\n",
       "      <td>-1.870</td>\n",
       "      <td>-2.930</td>\n",
       "      <td>1</td>\n",
       "      <td>coaster</td>\n",
       "      <td>2017-03-17 08:09:50.300</td>\n",
       "    </tr>\n",
       "    <tr>\n",
       "      <th>2</th>\n",
       "      <td>2017-03-17 08:09:50.328999936</td>\n",
       "      <td>10.070</td>\n",
       "      <td>-0.109</td>\n",
       "      <td>-0.587</td>\n",
       "      <td>-16.907</td>\n",
       "      <td>-1.870</td>\n",
       "      <td>-2.931</td>\n",
       "      <td>1</td>\n",
       "      <td>coaster</td>\n",
       "      <td>2017-03-17 08:09:50.300</td>\n",
       "    </tr>\n",
       "    <tr>\n",
       "      <th>3</th>\n",
       "      <td>2017-03-17 08:09:50.332999936</td>\n",
       "      <td>10.069</td>\n",
       "      <td>-0.108</td>\n",
       "      <td>-0.588</td>\n",
       "      <td>-16.907</td>\n",
       "      <td>-1.870</td>\n",
       "      <td>-2.933</td>\n",
       "      <td>1</td>\n",
       "      <td>coaster</td>\n",
       "      <td>2017-03-17 08:09:50.300</td>\n",
       "    </tr>\n",
       "    <tr>\n",
       "      <th>4</th>\n",
       "      <td>2017-03-17 08:09:50.336999936</td>\n",
       "      <td>10.068</td>\n",
       "      <td>-0.109</td>\n",
       "      <td>-0.588</td>\n",
       "      <td>-16.908</td>\n",
       "      <td>-1.869</td>\n",
       "      <td>-2.934</td>\n",
       "      <td>1</td>\n",
       "      <td>coaster</td>\n",
       "      <td>2017-03-17 08:09:50.300</td>\n",
       "    </tr>\n",
       "    <tr>\n",
       "      <th>...</th>\n",
       "      <td>...</td>\n",
       "      <td>...</td>\n",
       "      <td>...</td>\n",
       "      <td>...</td>\n",
       "      <td>...</td>\n",
       "      <td>...</td>\n",
       "      <td>...</td>\n",
       "      <td>...</td>\n",
       "      <td>...</td>\n",
       "      <td>...</td>\n",
       "    </tr>\n",
       "    <tr>\n",
       "      <th>13188502</th>\n",
       "      <td>2017-02-15 07:45:58.303000064</td>\n",
       "      <td>47.180</td>\n",
       "      <td>23.764</td>\n",
       "      <td>-6.570</td>\n",
       "      <td>1.757</td>\n",
       "      <td>-12.715</td>\n",
       "      <td>-1.601</td>\n",
       "      <td>50</td>\n",
       "      <td>sport</td>\n",
       "      <td>2017-02-15 07:45:58.300</td>\n",
       "    </tr>\n",
       "    <tr>\n",
       "      <th>13188503</th>\n",
       "      <td>2017-02-15 07:45:58.306999808</td>\n",
       "      <td>47.179</td>\n",
       "      <td>23.759</td>\n",
       "      <td>-6.561</td>\n",
       "      <td>1.775</td>\n",
       "      <td>-12.739</td>\n",
       "      <td>-1.605</td>\n",
       "      <td>50</td>\n",
       "      <td>sport</td>\n",
       "      <td>2017-02-15 07:45:58.300</td>\n",
       "    </tr>\n",
       "    <tr>\n",
       "      <th>13188504</th>\n",
       "      <td>2017-02-15 07:45:58.311000064</td>\n",
       "      <td>47.177</td>\n",
       "      <td>23.747</td>\n",
       "      <td>-6.542</td>\n",
       "      <td>1.811</td>\n",
       "      <td>-12.785</td>\n",
       "      <td>-1.615</td>\n",
       "      <td>50</td>\n",
       "      <td>sport</td>\n",
       "      <td>2017-02-15 07:45:58.300</td>\n",
       "    </tr>\n",
       "    <tr>\n",
       "      <th>13188505</th>\n",
       "      <td>2017-02-15 07:45:58.313999872</td>\n",
       "      <td>47.175</td>\n",
       "      <td>23.736</td>\n",
       "      <td>-6.523</td>\n",
       "      <td>1.848</td>\n",
       "      <td>-12.828</td>\n",
       "      <td>-1.627</td>\n",
       "      <td>50</td>\n",
       "      <td>sport</td>\n",
       "      <td>2017-02-15 07:45:58.300</td>\n",
       "    </tr>\n",
       "    <tr>\n",
       "      <th>13188506</th>\n",
       "      <td>2017-02-15 07:45:58.320000000</td>\n",
       "      <td>47.169</td>\n",
       "      <td>23.720</td>\n",
       "      <td>-6.495</td>\n",
       "      <td>1.910</td>\n",
       "      <td>-12.899</td>\n",
       "      <td>-1.660</td>\n",
       "      <td>50</td>\n",
       "      <td>sport</td>\n",
       "      <td>2017-02-15 07:45:58.300</td>\n",
       "    </tr>\n",
       "  </tbody>\n",
       "</table>\n",
       "<p>13188507 rows × 10 columns</p>\n",
       "</div>"
      ],
      "text/plain": [
       "                             timestamp   rawTX   rawTY  rawTZ  rawYaw  \\\n",
       "0        2017-03-17 08:09:50.316999936  10.073  -0.109 -0.587 -16.907   \n",
       "1        2017-03-17 08:09:50.324999936  10.071  -0.108 -0.587 -16.907   \n",
       "2        2017-03-17 08:09:50.328999936  10.070  -0.109 -0.587 -16.907   \n",
       "3        2017-03-17 08:09:50.332999936  10.069  -0.108 -0.588 -16.907   \n",
       "4        2017-03-17 08:09:50.336999936  10.068  -0.109 -0.588 -16.908   \n",
       "...                                ...     ...     ...    ...     ...   \n",
       "13188502 2017-02-15 07:45:58.303000064  47.180  23.764 -6.570   1.757   \n",
       "13188503 2017-02-15 07:45:58.306999808  47.179  23.759 -6.561   1.775   \n",
       "13188504 2017-02-15 07:45:58.311000064  47.177  23.747 -6.542   1.811   \n",
       "13188505 2017-02-15 07:45:58.313999872  47.175  23.736 -6.523   1.848   \n",
       "13188506 2017-02-15 07:45:58.320000000  47.169  23.720 -6.495   1.910   \n",
       "\n",
       "          rawPitch  rawRoll  user_id video_id         timestamp_floor  \n",
       "0           -1.869   -2.928        1  coaster 2017-03-17 08:09:50.300  \n",
       "1           -1.870   -2.930        1  coaster 2017-03-17 08:09:50.300  \n",
       "2           -1.870   -2.931        1  coaster 2017-03-17 08:09:50.300  \n",
       "3           -1.870   -2.933        1  coaster 2017-03-17 08:09:50.300  \n",
       "4           -1.869   -2.934        1  coaster 2017-03-17 08:09:50.300  \n",
       "...            ...      ...      ...      ...                     ...  \n",
       "13188502   -12.715   -1.601       50    sport 2017-02-15 07:45:58.300  \n",
       "13188503   -12.739   -1.605       50    sport 2017-02-15 07:45:58.300  \n",
       "13188504   -12.785   -1.615       50    sport 2017-02-15 07:45:58.300  \n",
       "13188505   -12.828   -1.627       50    sport 2017-02-15 07:45:58.300  \n",
       "13188506   -12.899   -1.660       50    sport 2017-02-15 07:45:58.300  \n",
       "\n",
       "[13188507 rows x 10 columns]"
      ]
     },
     "execution_count": 2,
     "metadata": {},
     "output_type": "execute_result"
    }
   ],
   "source": [
    "csv_data"
   ]
  },
  {
   "cell_type": "code",
   "execution_count": 3,
   "metadata": {},
   "outputs": [],
   "source": [
    "def append_to_file(input_file, output_file, additional_content):\n",
    "    with open(input_file, 'r') as f:\n",
    "        original_content = f.read()\n",
    "\n",
    "    new_content = original_content + '\\n' + additional_content\n",
    "\n",
    "    with open(output_file, 'w') as f:\n",
    "        f.write(new_content)\n"
   ]
  },
  {
   "cell_type": "code",
   "execution_count": 4,
   "metadata": {},
   "outputs": [],
   "source": [
    "def initTimeNetData(data, label, step):\n",
    "    append_string = \"\"\n",
    "    for i in range(0, len(label), step):\n",
    "        group = label[i:i+step]\n",
    "        if len(set(group)) == 1:\n",
    "            temp_transposed_matrix = np.transpose(data[i:i+step])\n",
    "            append_string += \":\".join([\",\".join(map(str, row)) for row in temp_transposed_matrix])\n",
    "            append_string += \":\" + str(group[0]) + \"\\n\"\n",
    "\n",
    "    return append_string"
   ]
  },
  {
   "cell_type": "code",
   "execution_count": 16,
   "metadata": {},
   "outputs": [],
   "source": [
    "from datetime import timedelta\n",
    "import numpy as np\n",
    "import random\n",
    "from tqdm.auto import tqdm\n",
    "\n",
    "def process_data(csv_data, test_video_id):\n",
    "    train_data = []\n",
    "    train_labels = []\n",
    "    test_data = []\n",
    "    test_labels = []\n",
    "\n",
    "    for user_id, user_data in tqdm(csv_data.groupby('user_id')):\n",
    "        for video_id, video_data in user_data.groupby('video_id'):\n",
    "            for _, floor_data in video_data.groupby(video_data['timestamp_floor']):\n",
    "                floor_data = floor_data[['rawTX', 'rawTY', 'rawTZ', 'rawYaw', 'rawPitch', 'rawRoll']]\n",
    "                if video_id == test_video_id:\n",
    "                    test_data.append(round(floor_data.mean(), 5).values)\n",
    "                    test_labels.append(user_id)\n",
    "                else:\n",
    "                    train_data.append(round(floor_data.mean(), 5).values)\n",
    "                    train_labels.append(user_id)\n",
    "\n",
    "    return np.array(train_data), np.array(train_labels), np.array(test_data), np.array(test_labels)"
   ]
  },
  {
   "cell_type": "code",
   "execution_count": 20,
   "metadata": {},
   "outputs": [
    {
     "name": "stdout",
     "output_type": "stream",
     "text": [
      "i: 0, video_id: coaster begin.\n"
     ]
    },
    {
     "data": {
      "application/vnd.jupyter.widget-view+json": {
       "model_id": "5de7fa42168a41c880aa1f2d82b3931c",
       "version_major": 2,
       "version_minor": 0
      },
      "text/plain": [
       "  0%|          | 0/50 [00:00<?, ?it/s]"
      ]
     },
     "metadata": {},
     "output_type": "display_data"
    },
    {
     "name": "stdout",
     "output_type": "stream",
     "text": [
      "train_data.shape: (475271, 6)\n",
      "train_labels.shape: (475271,)\n",
      "test_data.shape: (53113, 6)\n",
      "test_labels.shape: (53113,)\n",
      "i: 0, video_id: coaster finished.\n",
      "i: 1, video_id: coaster2 begin.\n"
     ]
    },
    {
     "data": {
      "application/vnd.jupyter.widget-view+json": {
       "model_id": "13b71503c131456cb6b891a99020db1b",
       "version_major": 2,
       "version_minor": 0
      },
      "text/plain": [
       "  0%|          | 0/50 [00:00<?, ?it/s]"
      ]
     },
     "metadata": {},
     "output_type": "display_data"
    },
    {
     "name": "stdout",
     "output_type": "stream",
     "text": [
      "train_data.shape: (473715, 6)\n",
      "train_labels.shape: (473715,)\n",
      "test_data.shape: (54669, 6)\n",
      "test_labels.shape: (54669,)\n",
      "i: 1, video_id: coaster2 finished.\n",
      "i: 2, video_id: diving begin.\n"
     ]
    },
    {
     "data": {
      "application/vnd.jupyter.widget-view+json": {
       "model_id": "9a36a588f351478787b188d555520acc",
       "version_major": 2,
       "version_minor": 0
      },
      "text/plain": [
       "  0%|          | 0/50 [00:00<?, ?it/s]"
      ]
     },
     "metadata": {},
     "output_type": "display_data"
    },
    {
     "name": "stdout",
     "output_type": "stream",
     "text": [
      "train_data.shape: (475533, 6)\n",
      "train_labels.shape: (475533,)\n",
      "test_data.shape: (52851, 6)\n",
      "test_labels.shape: (52851,)\n",
      "i: 2, video_id: diving finished.\n",
      "i: 3, video_id: drive begin.\n"
     ]
    },
    {
     "data": {
      "application/vnd.jupyter.widget-view+json": {
       "model_id": "7e5b425ca1dc4a16ba2bbf085761a1cb",
       "version_major": 2,
       "version_minor": 0
      },
      "text/plain": [
       "  0%|          | 0/50 [00:00<?, ?it/s]"
      ]
     },
     "metadata": {},
     "output_type": "display_data"
    },
    {
     "name": "stdout",
     "output_type": "stream",
     "text": [
      "train_data.shape: (475673, 6)\n",
      "train_labels.shape: (475673,)\n",
      "test_data.shape: (52711, 6)\n",
      "test_labels.shape: (52711,)\n",
      "i: 3, video_id: drive finished.\n",
      "i: 4, video_id: game begin.\n"
     ]
    },
    {
     "data": {
      "application/vnd.jupyter.widget-view+json": {
       "model_id": "40983dfba7bd4f72a28baeea1fe82b88",
       "version_major": 2,
       "version_minor": 0
      },
      "text/plain": [
       "  0%|          | 0/50 [00:00<?, ?it/s]"
      ]
     },
     "metadata": {},
     "output_type": "display_data"
    },
    {
     "name": "stdout",
     "output_type": "stream",
     "text": [
      "train_data.shape: (476029, 6)\n",
      "train_labels.shape: (476029,)\n",
      "test_data.shape: (52355, 6)\n",
      "test_labels.shape: (52355,)\n",
      "i: 4, video_id: game finished.\n",
      "i: 5, video_id: landscape begin.\n"
     ]
    },
    {
     "data": {
      "application/vnd.jupyter.widget-view+json": {
       "model_id": "0a6779a532aa481d967a78521f03b5ad",
       "version_major": 2,
       "version_minor": 0
      },
      "text/plain": [
       "  0%|          | 0/50 [00:00<?, ?it/s]"
      ]
     },
     "metadata": {},
     "output_type": "display_data"
    },
    {
     "name": "stdout",
     "output_type": "stream",
     "text": [
      "train_data.shape: (475138, 6)\n",
      "train_labels.shape: (475138,)\n",
      "test_data.shape: (53246, 6)\n",
      "test_labels.shape: (53246,)\n",
      "i: 5, video_id: landscape finished.\n",
      "i: 6, video_id: pacman begin.\n"
     ]
    },
    {
     "data": {
      "application/vnd.jupyter.widget-view+json": {
       "model_id": "9a7909f45ba948dfad272f0129df1e64",
       "version_major": 2,
       "version_minor": 0
      },
      "text/plain": [
       "  0%|          | 0/50 [00:00<?, ?it/s]"
      ]
     },
     "metadata": {},
     "output_type": "display_data"
    },
    {
     "name": "stdout",
     "output_type": "stream",
     "text": [
      "train_data.shape: (475989, 6)\n",
      "train_labels.shape: (475989,)\n",
      "test_data.shape: (52395, 6)\n",
      "test_labels.shape: (52395,)\n",
      "i: 6, video_id: pacman finished.\n",
      "i: 7, video_id: panel begin.\n"
     ]
    },
    {
     "data": {
      "application/vnd.jupyter.widget-view+json": {
       "model_id": "45dfd6f124744eef8449a382648fcc37",
       "version_major": 2,
       "version_minor": 0
      },
      "text/plain": [
       "  0%|          | 0/50 [00:00<?, ?it/s]"
      ]
     },
     "metadata": {},
     "output_type": "display_data"
    },
    {
     "name": "stdout",
     "output_type": "stream",
     "text": [
      "train_data.shape: (475970, 6)\n",
      "train_labels.shape: (475970,)\n",
      "test_data.shape: (52414, 6)\n",
      "test_labels.shape: (52414,)\n",
      "i: 7, video_id: panel finished.\n",
      "i: 8, video_id: ride begin.\n"
     ]
    },
    {
     "data": {
      "application/vnd.jupyter.widget-view+json": {
       "model_id": "3ebee1eae58045eaa035a272a1a1e57b",
       "version_major": 2,
       "version_minor": 0
      },
      "text/plain": [
       "  0%|          | 0/50 [00:00<?, ?it/s]"
      ]
     },
     "metadata": {},
     "output_type": "display_data"
    },
    {
     "name": "stdout",
     "output_type": "stream",
     "text": [
      "train_data.shape: (475534, 6)\n",
      "train_labels.shape: (475534,)\n",
      "test_data.shape: (52850, 6)\n",
      "test_labels.shape: (52850,)\n",
      "i: 8, video_id: ride finished.\n",
      "i: 9, video_id: sport begin.\n"
     ]
    },
    {
     "data": {
      "application/vnd.jupyter.widget-view+json": {
       "model_id": "adc20147419d42d88d54d9f174beb268",
       "version_major": 2,
       "version_minor": 0
      },
      "text/plain": [
       "  0%|          | 0/50 [00:00<?, ?it/s]"
      ]
     },
     "metadata": {},
     "output_type": "display_data"
    },
    {
     "name": "stdout",
     "output_type": "stream",
     "text": [
      "train_data.shape: (476604, 6)\n",
      "train_labels.shape: (476604,)\n",
      "test_data.shape: (51780, 6)\n",
      "test_labels.shape: (51780,)\n",
      "i: 9, video_id: sport finished.\n"
     ]
    }
   ],
   "source": [
    "i = np.Inf\n",
    "for video_id in video_ids:\n",
    "    if video_id == 'coaster':\n",
    "        i = 0\n",
    "    elif video_id == 'coaster2':\n",
    "        i = 1\n",
    "    elif video_id == 'diving':\n",
    "        i = 2\n",
    "    elif video_id == 'drive':\n",
    "        i = 3\n",
    "    elif video_id == 'game':\n",
    "        i = 4\n",
    "    elif video_id == 'landscape':\n",
    "        i = 5\n",
    "    elif video_id == 'pacman':\n",
    "        i = 6\n",
    "    elif video_id == 'panel':\n",
    "        i = 7\n",
    "    elif video_id == 'ride':\n",
    "        i = 8\n",
    "    elif video_id == 'sport':\n",
    "        i = 9\n",
    "    print(f'i: {i}, video_id: {video_id} begin.')\n",
    "    train_data, train_labels, test_data, test_labels = process_data(csv_data, video_id)\n",
    "    print('train_data.shape: {}'.format(train_data.shape))\n",
    "    print('train_labels.shape: {}'.format(train_labels.shape))\n",
    "    print('test_data.shape: {}'.format(test_data.shape))\n",
    "    print('test_labels.shape: {}'.format(test_labels.shape))\n",
    "    append_train_string = initTimeNetData(train_data, train_labels, 10)\n",
    "    append_to_file('template.ts', f'UserIdentify{i}_TRAIN.ts', append_train_string)\n",
    "    append_test_string = initTimeNetData(test_data, test_labels, 10)\n",
    "    append_to_file('template.ts', f'UserIdentify{i}_TEST.ts', append_test_string)\n",
    "    print(f'i: {i}, video_id: {video_id} finished.')"
   ]
  }
 ],
 "metadata": {
  "kernelspec": {
   "display_name": "Python 3",
   "language": "python",
   "name": "python3"
  },
  "language_info": {
   "codemirror_mode": {
    "name": "ipython",
    "version": 3
   },
   "file_extension": ".py",
   "mimetype": "text/x-python",
   "name": "python",
   "nbconvert_exporter": "python",
   "pygments_lexer": "ipython3",
   "version": "3.8.0"
  }
 },
 "nbformat": 4,
 "nbformat_minor": 2
}
