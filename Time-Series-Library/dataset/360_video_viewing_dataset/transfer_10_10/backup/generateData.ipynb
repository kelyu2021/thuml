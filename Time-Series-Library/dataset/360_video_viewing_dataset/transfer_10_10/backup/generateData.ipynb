{
 "cells": [
  {
   "cell_type": "code",
   "execution_count": null,
   "metadata": {},
   "outputs": [],
   "source": [
    "import pandas as pd\n",
    "import tqdm.auto as tqdm\n",
    "\n",
    "complete_to_two_digits = lambda x: str(x).zfill(2) if x < 10 else str(x)\n",
    "\n",
    "def read_csv_file(user_id, video_id):\n",
    "    filepath = f'../sensory/raw/{video_id}_user{user_id}_raw.csv'\n",
    "    #print(filepath)\n",
    "    df = pd.read_csv(filepath)\n",
    "    \n",
    "    return df\n",
    "\n",
    "csv_data = []\n",
    "video_ids = ['coaster', 'coaster2', 'diving', 'drive', 'game', 'landscape', 'pacman', 'panel', 'ride', 'sport']\n",
    "for user_id in range(1, 51):\n",
    "    user_data = []\n",
    "    for video_id in video_ids:\n",
    "\n",
    "        df = read_csv_file(complete_to_two_digits(user_id), video_id)\n",
    " \n",
    "        df['user_id'] = user_id # 添加标签（用户ID）\n",
    "        df['video_id'] = video_id # 添加video_id字段\n",
    "        df['timestamp'] = pd.to_datetime(df['timestamp'], unit='s')\n",
    "        df['timestamp_floor'] = pd.to_datetime(df['timestamp'], unit='s').dt.floor('100ms')\n",
    "        user_data.append(df)\n",
    "\n",
    "    user_data_combined = pd.concat(user_data, ignore_index=True)\n",
    "    csv_data.append(user_data_combined)\n",
    "\n",
    "csv_data = pd.concat(csv_data, ignore_index=True)\n"
   ]
  },
  {
   "cell_type": "markdown",
   "metadata": {},
   "source": []
  },
  {
   "cell_type": "code",
   "execution_count": null,
   "metadata": {},
   "outputs": [],
   "source": [
    "csv_data"
   ]
  },
  {
   "cell_type": "code",
   "execution_count": null,
   "metadata": {},
   "outputs": [],
   "source": [
    "def append_to_file(input_file, output_file, additional_content):\n",
    "    with open(input_file, 'r') as f:\n",
    "        original_content = f.read()\n",
    "\n",
    "    new_content = original_content + '\\n' + additional_content\n",
    "\n",
    "    with open(output_file, 'w') as f:\n",
    "        f.write(new_content)\n"
   ]
  },
  {
   "cell_type": "code",
   "execution_count": null,
   "metadata": {},
   "outputs": [],
   "source": [
    "def initTimeNetData(data, label, step):\n",
    "    append_string = \"\"\n",
    "    for i in range(0, len(label), step):\n",
    "        group = label[i:i+step]\n",
    "        if len(set(group)) == 1:\n",
    "            temp_transposed_matrix = np.transpose(data[i:i+step])\n",
    "            append_string += \":\".join([\",\".join(map(str, row)) for row in temp_transposed_matrix])\n",
    "            append_string += \":\" + str(group[0]) + \"\\n\"\n",
    "\n",
    "    return append_string"
   ]
  },
  {
   "cell_type": "code",
   "execution_count": null,
   "metadata": {},
   "outputs": [],
   "source": [
    "from datetime import timedelta\n",
    "import numpy as np\n",
    "import random\n",
    "from tqdm.auto import tqdm\n",
    "\n",
    "def process_data(csv_data, test_video_id):\n",
    "    train_data = []\n",
    "    train_labels = []\n",
    "    test_data = []\n",
    "    test_labels = []\n",
    "\n",
    "    for user_id, user_data in tqdm(csv_data.groupby('user_id')):\n",
    "        for video_id, video_data in user_data.groupby('video_id'):\n",
    "            for _, floor_data in video_data.groupby(video_data['timestamp_floor']):\n",
    "                floor_data = floor_data[['rawTX', 'rawTY', 'rawTZ', 'rawYaw', 'rawPitch', 'rawRoll']]\n",
    "                if video_id == test_video_id:\n",
    "                    test_data.append(round(floor_data.mean(), 5).values)\n",
    "                    test_labels.append(user_id)\n",
    "                else:\n",
    "                    train_data.append(round(floor_data.mean(), 5).values)\n",
    "                    train_labels.append(user_id)\n",
    "\n",
    "    return np.array(train_data), np.array(train_labels), np.array(test_data), np.array(test_labels)"
   ]
  },
  {
   "cell_type": "code",
   "execution_count": null,
   "metadata": {},
   "outputs": [],
   "source": [
    "i = np.Inf\n",
    "for video_id in video_ids:\n",
    "    if video_id == 'coaster':\n",
    "        i = 0\n",
    "    elif video_id == 'coaster2':\n",
    "        i = 1\n",
    "    elif video_id == 'diving':\n",
    "        i = 2\n",
    "    elif video_id == 'drive':\n",
    "        i = 3\n",
    "    elif video_id == 'game':\n",
    "        i = 4\n",
    "    elif video_id == 'landscape':\n",
    "        i = 5\n",
    "    elif video_id == 'pacman':\n",
    "        i = 6\n",
    "    elif video_id == 'panel':\n",
    "        i = 7\n",
    "    elif video_id == 'ride':\n",
    "        i = 8\n",
    "    elif video_id == 'sport':\n",
    "        i = 9\n",
    "    print(f'i: {i}, video_id: {video_id} begin.')\n",
    "    train_data, train_labels, test_data, test_labels = process_data(csv_data, video_id)\n",
    "    print('train_data.shape: {}'.format(train_data.shape))\n",
    "    print('train_labels.shape: {}'.format(train_labels.shape))\n",
    "    print('test_data.shape: {}'.format(test_data.shape))\n",
    "    print('test_labels.shape: {}'.format(test_labels.shape))\n",
    "    append_train_string = initTimeNetData(train_data, train_labels, 10)\n",
    "    append_to_file('template.ts', f'UserIdentify{i}_TRAIN.ts', append_train_string)\n",
    "    append_test_string = initTimeNetData(test_data, test_labels, 10)\n",
    "    append_to_file('template.ts', f'UserIdentify{i}_TEST.ts', append_test_string)\n",
    "    print(f'i: {i}, video_id: {video_id} finished.')"
   ]
  }
 ],
 "metadata": {
  "kernelspec": {
   "display_name": "Python 3",
   "language": "python",
   "name": "python3"
  },
  "language_info": {
   "codemirror_mode": {
    "name": "ipython",
    "version": 3
   },
   "file_extension": ".py",
   "mimetype": "text/x-python",
   "name": "python",
   "nbconvert_exporter": "python",
   "pygments_lexer": "ipython3",
   "version": "3.8.0"
  }
 },
 "nbformat": 4,
 "nbformat_minor": 2
}
